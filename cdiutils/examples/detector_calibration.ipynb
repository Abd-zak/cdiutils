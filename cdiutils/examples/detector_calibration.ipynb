{
 "cells": [
  {
   "cell_type": "code",
   "execution_count": null,
   "metadata": {},
   "outputs": [],
   "source": [
    "import cdiutils"
   ]
  },
  {
   "cell_type": "code",
   "execution_count": null,
   "metadata": {},
   "outputs": [],
   "source": [
    "experiment_file_path = (\n",
    "    \"/data/visitor/hc5787/id01/20241105/RAW_DATA/hc5787_id01.h5\" \n",
    ")\n",
    "\n",
    "energy = 19900\n",
    "\n",
    "sample_name = \"Pd_GC_BCDI_0002\"\n",
    "\n",
    "loader = cdiutils.load.ID01Loader(\n",
    "    experiment_file_path=experiment_file_path,\n",
    "    sample_name=sample_name,\n",
    ")"
   ]
  },
  {
   "cell_type": "code",
   "execution_count": null,
   "metadata": {},
   "outputs": [],
   "source": [
    "scan = 11\n",
    "det_calib_frames = loader.load_detector_data(scan=scan)\n",
    "angles = loader.load_motor_positions(scan=scan)"
   ]
  },
  {
   "cell_type": "code",
   "execution_count": null,
   "metadata": {},
   "outputs": [],
   "source": [
    "geometry = cdiutils.Geometry.from_setup(\"ID01\")\n",
    "geometry.cxi_to_xu() # change to XU convention\n",
    "print(geometry)  # to check out the geometry"
   ]
  },
  {
   "cell_type": "code",
   "execution_count": null,
   "metadata": {},
   "outputs": [],
   "source": [
    "det_calib_parameters = cdiutils.SpaceConverter.run_detector_calibration(\n",
    "    det_calib_frames,\n",
    "    detector_outofplane_angle=angles[\"detector_outofplane_angle\"],\n",
    "    detector_inplane_angle=angles[\"detector_inplane_angle\"],\n",
    "    xu_detector_circles=geometry.detector_circles,\n",
    "    energy=energy,\n",
    "    sdd_estimate=None\n",
    ")"
   ]
  },
  {
   "cell_type": "code",
   "execution_count": null,
   "metadata": {},
   "outputs": [],
   "source": [
    "\n",
    "print(\n",
    "    \"det_calib_parameters = {\"\n",
    ")\n",
    "\n",
    "for k, v in det_calib_parameters.items():\n",
    "    print(\n",
    "        f'\\t\"{k}\": {v},'\n",
    "    )\n",
    "print(\"}\")"
   ]
  }
 ],
 "metadata": {
  "kernelspec": {
   "display_name": "Python 3",
   "language": "python",
   "name": "python3"
  },
  "language_info": {
   "codemirror_mode": {
    "name": "ipython",
    "version": 3
   },
   "file_extension": ".py",
   "mimetype": "text/x-python",
   "name": "python",
   "nbconvert_exporter": "python",
   "pygments_lexer": "ipython3",
   "version": "3.10.14"
  },
  "orig_nbformat": 4,
  "vscode": {
   "interpreter": {
    "hash": "f8c9f7f8d10f9447c17de65ed45babc999209e89aee4cc6fcc55aaea8612438e"
   }
  }
 },
 "nbformat": 4,
 "nbformat_minor": 2
}
