{
 "cells": [
  {
   "cell_type": "markdown",
   "metadata": {},
   "source": [
    "# BCDI Pipeline\n",
    "### A notebook to run the `BcdiPipeline` instance"
   ]
  },
  {
   "cell_type": "markdown",
   "metadata": {},
   "source": [
    "Import packages:"
   ]
  },
  {
   "cell_type": "code",
   "execution_count": null,
   "metadata": {
    "tags": []
   },
   "outputs": [],
   "source": [
    "import os\n",
    "import cdiutils"
   ]
  },
  {
   "cell_type": "markdown",
   "metadata": {},
   "source": [
    "#### The main parameters"
   ]
  },
  {
   "cell_type": "code",
   "execution_count": null,
   "metadata": {
    "tags": []
   },
   "outputs": [],
   "source": [
    "beamline_setup =\n",
    "sample_name =\n",
    "scan =\n",
    "experiment_file_path =\n",
    "\n",
    "# Choose where you wish to save the data, or leave it as it is:\n",
    "dump_dir = os.getcwd() + f\"/results/{sample_name}/S{scan}/\"\n",
    "\n",
    "preprocess_shape = [100, 150, 150]  # 2 or 3 values. If 2, will take the whole RC \n",
    "\n",
    "# voxel_reference_methods CAN BE A LIST (as long as you like) of either\n",
    "# \"com\", \"max\" or a tuple of int that corresponds to the position you\n",
    "# want to crop the data at (possibly 2D).\n",
    "# Ex: det_reference_voxel_method = [(70, 200, 200), \"com\", \"com\"]. This\n",
    "# will center a box of size preprocess_shape around voxel\n",
    "# (70, 200, 200) and compute the com, recentre the box around this com,\n",
    "# recompute the com (that might have changed) and recentre again.\n",
    "# Particularly useful if you have aliens (com fails) or hot pixels\n",
    "# (max fails), chain centring can help you find the correct com or max.\n",
    "voxel_reference_methods = [\"max\", \"com\", \"com\"]\n",
    "\n",
    "rocking_angle_binning = None  # Whether you want to bin in the RC direction\n",
    "light_loading = False  # Load only the roi of the data defined by the voxel_reference_methods and preprocess_output_shape\n",
    "hot_pixel_filter = False\n",
    "background_level = None\n",
    "\n",
    "# The Bragg reflection you measured, just to extend the d-spacing value to that of the lattice parameter\n",
    "hkl = [1, 1, 1]\n",
    "\n",
    "# Load the parameters and parse them into the BcdiPipeline class instance \n",
    "params = cdiutils.pipeline.get_params_from_variables(dir(), globals())\n",
    "bcdi_pipeline = cdiutils.BcdiPipeline(params=params)"
   ]
  },
  {
   "cell_type": "markdown",
   "metadata": {},
   "source": [
    "## Pre-processing\n",
    "\n",
    "If you need to update some parameters, you can do it directly by parsing them in the `preprocess` method such as:\n",
    "```\n",
    "bcdi_pipeline.preprocess(\n",
    "    preprocess_shape=(100, 150, 150),\n",
    "    voxel_reference_methods=(80, 150, 230)\n",
    ")\n",
    "```"
   ]
  },
  {
   "cell_type": "code",
   "execution_count": null,
   "metadata": {},
   "outputs": [],
   "source": [
    "bcdi_pipeline.preprocess()"
   ]
  },
  {
   "cell_type": "markdown",
   "metadata": {},
   "source": [
    "## [PyNX](https://pynx.esrf.fr/en/latest/index.html) phase retrieval\n",
    "See [pynx.cdi](https://pynx.esrf.fr/en/latest/modules/cdi/index.html) for documentation on the phasing algorithms used here.\n",
    "\n",
    "Here are a few default PyNX parameters used in cdiutils:\n",
    "* `support = auto`\n",
    "* `support_threshold = 0.15, 0.40`\n",
    "* `support_update_period = 20`\n",
    "* `support_only_shrink = False`\n",
    "* `support_post_expand = None` ex: \"-1,1\" or \"-1,2-1\"\n",
    "* `support_update_border_n = None`\n",
    "* `support_smooth_width_begin = 2`\n",
    "* `support_smooth_width_end = 0.5`\n",
    "* `nb_raar = 500`\n",
    "* `nb_hio =  300`\n",
    "* `nb_er =  200`\n",
    "* `nb_run = 20`\n",
    "* `nb_run_keep = 10`\n",
    "* `rebin = \"1, 1, 1\"`  Note this must be a string !\n",
    "* `positivity = False`\n",
    "\n",
    "Note that parsing them in the `phase_retrieval` method will update them:\n",
    "```\n",
    "bcdi_pipeline.phase_retrieval(nb_raar=400)\n",
    "```"
   ]
  },
  {
   "cell_type": "code",
   "execution_count": null,
   "metadata": {},
   "outputs": [],
   "source": [
    "bcdi_pipeline.phase_retrieval(\n",
    "    clear_former_results=True,\n",
    "    nb_run=20,\n",
    "    nb_run_keep=10\n",
    ")"
   ]
  },
  {
   "cell_type": "markdown",
   "metadata": {},
   "source": [
    "### Analyse the phasing results"
   ]
  },
  {
   "cell_type": "code",
   "execution_count": null,
   "metadata": {},
   "outputs": [],
   "source": [
    "bcdi_pipeline.analyse_phasing_results(\n",
    "    sorting_criterion=\"mean_to_max\",\n",
    "    # plot_phasing_results=False,  # Defaults to True\n",
    "    # plot_phase=True,  # Defaults to False\n",
    ")"
   ]
  },
  {
   "cell_type": "markdown",
   "metadata": {},
   "source": [
    "### Selection of the best reconstructions and mode decomposition"
   ]
  },
  {
   "cell_type": "code",
   "execution_count": null,
   "metadata": {},
   "outputs": [],
   "source": [
    "# Chose the number of best candidates you want to keep.\n",
    "number_of_best_candidates: int = 5\n",
    "\n",
    "# You can either select the best candidates by specifying the\n",
    "# reconstruction number or just provide the number of runs you\n",
    "# want to consider. The \"best\" runs are selected according to the\n",
    "# sorting_criterion above. \n",
    "bcdi_pipeline.select_best_candidates(\n",
    "    # best_runs=[10]\n",
    "    nb_of_best_sorted_runs=number_of_best_candidates\n",
    ")\n",
    "\n",
    "bcdi_pipeline.mode_decomposition()"
   ]
  },
  {
   "cell_type": "markdown",
   "metadata": {},
   "source": [
    "## Post-processing:\n",
    "This part includes:\n",
    "* orthogonalisation,\n",
    "* phase manipulation such as phase unwrapping, phase ramp removal etc.\n",
    "* compute the displacement field, strain, dspacing...\n",
    "* plot a bunch of figures"
   ]
  },
  {
   "cell_type": "code",
   "execution_count": null,
   "metadata": {},
   "outputs": [],
   "source": [
    "bcdi_pipeline.postprocess(isosurface=0.3, voxel_size=None, flip=False)"
   ]
  },
  {
   "cell_type": "markdown",
   "metadata": {},
   "source": [
    "## Facet analysis: detection and indexing\n",
    "\n",
    "The facet analysis requires having run the post-processing with the \n",
    "parameter `method_det_support` different from None (default behaviour). \n",
    "You can set it to `\"Isosurface\"` or `\"Amplitude_variation\"`. The latter\n",
    "allows to determine the support via deriving the reconstructed\n",
    "amplitude.\n",
    "Ex.:\n",
    "```\n",
    "bcdi_pipeline.params[\"cdiutils\"].update(\n",
    "    {\n",
    "        \"method_det_support\": \"Isosurface\",  \n",
    "        \"order_of_derivative\": \"Gradient\",  # or \"Laplacian\"\n",
    "        \"raw_process\" : True,\n",
    "    }\n",
    ")\n",
    "```"
   ]
  },
  {
   "cell_type": "code",
   "execution_count": null,
   "metadata": {},
   "outputs": [],
   "source": [
    "\n",
    "bcdi_pipeline.params.update(\n",
    "    {\n",
    "        \"nb_facets\": 26, # Expected number of facets of the particle\n",
    "        \"remove_edges\": True,\n",
    "        \"nb_nghbs_min\": 0,\n",
    "        \"authorized_index\": [\"max\", 1],  # ['max',n],['absolute',a,b,c,...] or ['families',[h1,k1,l1],[h2,k2,l2],...]\n",
    "        \"index_to_display\": [[1,1,1]],  # None for the top facet or [[h1,k1,l1],[h2,k2,l2],...]\n",
    "        \"display_f_e_c\": \"facet\",  # 'facet', 'edge', 'corner', or 'all'\n",
    "        \"size\": 10  # Size of the voxels in the post-processing\n",
    "    }\n",
    ")\n",
    "\n",
    "bcdi_pipeline.facet_analysis()"
   ]
  }
 ],
 "metadata": {
  "kernelspec": {
   "display_name": "Python 3",
   "language": "python",
   "name": "python3"
  },
  "language_info": {
   "codemirror_mode": {
    "name": "ipython",
    "version": 3
   },
   "file_extension": ".py",
   "mimetype": "text/x-python",
   "name": "python",
   "nbconvert_exporter": "python",
   "pygments_lexer": "ipython3",
   "version": "3.10.14"
  }
 },
 "nbformat": 4,
 "nbformat_minor": 4
}
