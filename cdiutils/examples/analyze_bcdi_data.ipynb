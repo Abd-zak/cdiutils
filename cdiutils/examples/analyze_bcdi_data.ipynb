{
 "cells": [
  {
   "attachments": {},
   "cell_type": "markdown",
   "metadata": {},
   "source": [
    "## Presentation"
   ]
  },
  {
   "attachments": {},
   "cell_type": "markdown",
   "metadata": {},
   "source": [
    "A notebook to process BCDI data using cdiutils package and PyNX phase retrieval"
   ]
  },
  {
   "cell_type": "code",
   "execution_count": null,
   "metadata": {},
   "outputs": [],
   "source": [
    "import os\n",
    "import hdf5plugin # if data are too large\n",
    "from xrayutilities import en2lam\n",
    "\n",
    "from cdiutils.processing.pipeline import BcdiPipeline\n",
    "from cdiutils.load.authorized_keys import get_parameters_from_notebook_variables"
   ]
  },
  {
   "attachments": {},
   "cell_type": "markdown",
   "metadata": {},
   "source": [
    "## Processing parameters"
   ]
  },
  {
   "cell_type": "code",
   "execution_count": null,
   "metadata": {
    "tags": [
     "parameters"
    ]
   },
   "outputs": [],
   "source": [
    "metadata = {\n",
    "  'beamline_setup': 'ID01BLISS',\n",
    "  'scan': 8,\n",
    "  'sample_name': 'B18S2P1_0007',\n",
    "  'experiment_file_path': \"/data/visitor/hc4959/id01/20230214/raw/hc4959_id01.h5\",\n",
    "  'detector_data_path': None, # for ID01SPEC setup\n",
    "  'edf_file_template': None, # for ID01SPEC setup\n",
    "  'detector_name': 'mpx1x4',\n",
    "  'flatfield_path': None,\n",
    "  \"alien_mask\": None,\n",
    "  'dump_dir': None,\n",
    "  'reconstruction_file': \"mode.h5\"\n",
    "}\n",
    "\n",
    "metadata[\"dump_dir\"] = (\n",
    "    '/data/id01/inhouse/clatlan/experiments/hc4959/analysis'\n",
    "    f'/results/{metadata[\"sample_name\"]}/S{metadata[\"scan\"]}/'\n",
    ")\n",
    "\n",
    "preprocessing_output_shape = [250, 250]\n",
    "energy = 13000\n",
    "roi = [0, 516, 0, 516]\n",
    "hkl = [1, 1, 1]\n",
    "det_reference_voxel_method = \"max\"\n",
    "det_reference_voxel = None #[120, 327, 185]\n",
    "binning_along_axis0 = None\n",
    "\n",
    "det_calib_parameters = {\n",
    "  'cch1': 207.46284910586556, # direct beam position vertical \n",
    "  'cch2': 69.95685534011558, # horizontal\n",
    "  'pwidth1': 5.5e-05,\n",
    "  'pwidth2': 5.5e-05,\n",
    "  'distance': 1.2376291389386818,\n",
    "  'tiltazimuth': 185.1428549886293,\n",
    "  'tilt': 3.9999999483111504,\n",
    "  'detrot': 0.3846153846153846,\n",
    "  'outerangle_offset': 0.0\n",
    "}\n",
    "\n",
    "voxel_size = None\n",
    "apodize = True\n",
    "flip = False\n",
    "isosurface = None\n",
    "\n",
    "usetex = True\n",
    "show = True\n",
    "verbose = True\n",
    "debug = True\n",
    "\n",
    "# PyNX parameters\n",
    "data = (\n",
    "  metadata[\"dump_dir\"]\n",
    "  + f\"S{metadata['scan']}_pynx_input_data.npz\"\n",
    ")\n",
    "\n",
    "mask = (\n",
    "  metadata[\"dump_dir\"]\n",
    "  + f\"S{metadata['scan']}_pynx_input_mask.npz\"\n",
    ")\n",
    "\n",
    "data2cxi = True\n",
    "auto_center_resize = True\n",
    "\n",
    "support_type = \"square\"\n",
    "support_size = (40, 20, 40)\n",
    "support = \"auto\"\n",
    "support_threshold = \"0.30, 0.40\"\n",
    "support_threshold_method = \"rms\"\n",
    "support_only_shrink = False\n",
    "support_update_period = 20\n",
    "support_smooth_width_begin = 2\n",
    "support_smooth_width_end = 1\n",
    "support_post_expand = \"1,-2,1\"\n",
    "psf = \"pseudo-voigt,0.5,0.1,10\"\n",
    "\n",
    "nb_raar = 1000\n",
    "nb_hio = 150\n",
    "nb_er = 150\n",
    "nb_ml = 10\n",
    "nb_run = 15\n",
    "nb_run_keep = 10\n",
    "\n",
    "zero_mask = False\n",
    "crop_output = 0\n",
    "positivity = False\n",
    "beta = 0.9\n",
    "detwin = False\n",
    "\n",
    "rebin = \"1,1,1\"\n",
    "detector_distance = det_calib_parameters[\"distance\"]\n",
    "pixel_size_detector = 55e-6\n",
    "wavelength = float(en2lam(energy) * 1e-10) # wavelength in meter\n",
    "\n",
    "verbose = 100\n",
    "output_format = \"cxi\"\n",
    "live_plot = False\n",
    "save_plot = True\n",
    "mpi = \"run\"\n",
    "\n",
    "\n",
    "# Load the parameters and parse them into the BcdiPipeline instance \n",
    "parameters = get_parameters_from_notebook_variables(dir(), globals())\n",
    "bcdi_pipeline = BcdiPipeline(parameters=parameters)"
   ]
  },
  {
   "attachments": {},
   "cell_type": "markdown",
   "metadata": {},
   "source": [
    "### Preprocess the data: crop and center the data"
   ]
  },
  {
   "cell_type": "code",
   "execution_count": null,
   "metadata": {},
   "outputs": [],
   "source": [
    "bcdi_pipeline.preprocess()"
   ]
  },
  {
   "attachments": {},
   "cell_type": "markdown",
   "metadata": {},
   "source": [
    "### Run PyNX phase retrieval using ESRF's p9 GPUs"
   ]
  },
  {
   "cell_type": "code",
   "execution_count": null,
   "metadata": {},
   "outputs": [],
   "source": [
    "user = os.environ[\"USER\"]\n",
    "key_file_path = os.environ[\"HOME\"] + \"/.ssh/id_rsa\"\n",
    "number_of_nodes = 2\n",
    "\n",
    "print(\n",
    "    f\"Will use the user name '{user}' \"\n",
    "    f\"and the private key file path: '{key_file_path}'\"\n",
    ")\n",
    "\n",
    "bcdi_pipeline.phase_retrieval(\n",
    "    # machine=\"slurm-nice-devel\",\n",
    "    machine=\"lid01pwr9\",\n",
    "    user=user,\n",
    "    number_of_nodes=number_of_nodes,\n",
    "    key_file_path=key_file_path,\n",
    "    remove_last_results=True\n",
    ")"
   ]
  },
  {
   "attachments": {},
   "cell_type": "markdown",
   "metadata": {},
   "source": [
    "### Filter/sort the reconstructions and decompose them into one mode\n"
   ]
  },
  {
   "cell_type": "code",
   "execution_count": null,
   "metadata": {},
   "outputs": [],
   "source": [
    "bcdi_pipeline.find_best_candidates(nb_to_keep=5)\n",
    "bcdi_pipeline.mode_decomposition()"
   ]
  },
  {
   "attachments": {},
   "cell_type": "markdown",
   "metadata": {},
   "source": [
    "### Finally postprocess the data: orthogonalize, compute phase, dispacement, strain, dspacing..."
   ]
  },
  {
   "cell_type": "code",
   "execution_count": null,
   "metadata": {},
   "outputs": [],
   "source": [
    "bcdi_pipeline.postprocess()"
   ]
  },
  {
   "cell_type": "code",
   "execution_count": null,
   "metadata": {},
   "outputs": [],
   "source": []
  }
 ],
 "metadata": {
  "kernelspec": {
   "display_name": "Python 3",
   "language": "python",
   "name": "python3"
  },
  "language_info": {
   "codemirror_mode": {
    "name": "ipython",
    "version": 3
   },
   "file_extension": ".py",
   "mimetype": "text/x-python",
   "name": "python",
   "nbconvert_exporter": "python",
   "pygments_lexer": "ipython3",
   "version": "3.9.13"
  },
  "vscode": {
   "interpreter": {
    "hash": "f8c9f7f8d10f9447c17de65ed45babc999209e89aee4cc6fcc55aaea8612438e"
   }
  }
 },
 "nbformat": 4,
 "nbformat_minor": 4
}
